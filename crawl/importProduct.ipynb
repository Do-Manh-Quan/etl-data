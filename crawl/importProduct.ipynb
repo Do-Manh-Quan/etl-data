{
 "cells": [
  {
   "cell_type": "code",
   "execution_count": null,
   "metadata": {},
   "outputs": [],
   "source": [
    "url=\"https://www.aliexpress.com/store/1102375274/pages/all-items.html?spm=a2g0o.store_pc_home.pcShopHead_2003931588800.99&sortType=bestmatch_sort&shop_sortType=bestmatch_sort\""
   ]
  },
  {
   "cell_type": "code",
   "execution_count": 2,
   "metadata": {},
   "outputs": [
    {
     "name": "stdout",
     "output_type": "stream",
     "text": [
      "<div class=\"detailmodule_html\"><div class=\"detail-desc-decorate-richtext\"><div><div><div id=\"offer-template-0\"><span style=\"font-size:16px\"><span style=\"font-family:Arial, Helvetica, sans-serif\"><strong>Product Name: Natural Rubber Dog Toothbrush Dog Teeth Cleaning Toy And Toothbrush Stick Dental Care Chew Toys For Dogs Pet Supplies</strong></span></span><span style=\"font-size:16px\"><span style=\"font-family:Arial, Helvetica, sans-serif\"><br/><br/></span></span><span style=\"font-size:16px\"><span style=\"font-family:Arial, Helvetica, sans-serif\"><strong>Product Description:</strong></span></span><span style=\"font-size:16px\"><span style=\"font-family:Arial, Helvetica, sans-serif\"><br/>2. Material: Polyester<br/>3. Use: cat toy,dog toy<br/><br/></span></span><span style=\"font-size:16px\"><span style=\"font-family:Arial, Helvetica, sans-serif\"><strong>Characteristics:</strong></span></span><span style=\"font-size:16px\"><span style=\"font-family:Arial, Helvetica, sans-serif\"><br/>1. This dog toothbrush is made of natural rubber which is non-toxic and environmentally friendly.<br/>2. Better material makes it more sturdy and won&#x27;t be chewed easily.<br/>3. Soft designed to be safe for your dog&#x27;s gums,and will do no harm to your dogs&#x27; health and help them clean their teeth and protect against oral diseases.<br/>4. Designed to clean teeth on both sides and is angled to fit comfortably in your pet&#x27;s mouth.<br/>5. The toothbrush can clean the teeth 360 degrees in the dog&#x27;s mouth deeply.<br/>6. Includes a stable base to make it easier for your pet to hold the toothbrush.<br/>7. Encourage your pet to brush their teeth every day to prevent serious health problems.<br/>8. Sweet smell to attract pets to chew the brush,which can save energy and time to help dogs brush their teeth.</span></span><br/><br/><img width=\"790\" height=\"762.35\" src=\"https://ae01.alicdn.com/kf/Sa386c4fa84d24feba44b5062ff15c777h.jpg_640x640q90.jpg\" slate-data-type=\"image\"/><br/><br/><img width=\"790\" height=\"790\" src=\"https://ae01.alicdn.com/kf/S878f77513a984b13aec6b6df71335ad1t.jpg_640x640q90.jpg\" slate-data-type=\"image\"/><br/><br/><img width=\"790\" height=\"761.3625000000001\" src=\"https://ae01.alicdn.com/kf/S582fff01eaf14b8f98045d6d620388ffr.jpg_640x640q90.jpg\" slate-data-type=\"image\"/><br/><img width=\"790\" height=\"2428.2625000000003\" src=\"https://ae01.alicdn.com/kf/S1d94f4247a21471788637976d63a97a7e.jpg_640x640q90.jpg\" slate-data-type=\"image\"/><br/><img width=\"790\" height=\"762.35\" src=\"https://ae01.alicdn.com/kf/Sbeff7a448bda4441b0bf3e81aeee5ecar.jpg_640x640q90.jpg\" slate-data-type=\"image\"/><br/><br/><img width=\"790\" height=\"761.3625000000001\" src=\"https://ae01.alicdn.com/kf/Sd4d751044c2848c5ba811e4d4df07bb8J.jpg_640x640q90.jpg\" slate-data-type=\"image\"/><br/><img width=\"790\" height=\"762.35\" src=\"https://ae01.alicdn.com/kf/S09942c697c2847889b42d33cae224cfdD.jpg_640x640q90.jpg\" slate-data-type=\"image\"/><br/><img src=\"https://ae01.alicdn.com/kf/S9b618dce7a8442bb9db8cdd07b8bcbfeG.jpg_640x640q90.jpg\" slate-data-type=\"image\"/><br/><img src=\"https://ae01.alicdn.com/kf/S54378fc1b08d4cb08de5288eff08a4e7d.jpg_640x640q90.jpg\" slate-data-type=\"image\"/><br/><img src=\"https://ae01.alicdn.com/kf/S150cf77ed4324709b7dd56db37ade6ee3.jpg_640x640q90.jpg\" slate-data-type=\"image\"/><br/><img src=\"https://ae01.alicdn.com/kf/Sa65ac57f02874065a19cd3c40436be70C.jpg_640x640q90.jpg\" slate-data-type=\"image\"/><br/><br/><br/><img src=\"https://ae01.alicdn.com/kf/S6c9a71dee2744a2d8337034bcf8c0fc8g.jpg_640x640q90.jpg\" slate-data-type=\"image\"/><br/><img width=\"790\" height=\"790\" src=\"https://ae01.alicdn.com/kf/S80b8cc8e7448440a94f1cd0ddbce60d1Y.jpg_640x640q90.jpg\" slate-data-type=\"image\"/><br/><br/><img width=\"790\" height=\"790\" src=\"https://ae01.alicdn.com/kf/S53d94aaea27b4261b2919839cc422075S.jpg_640x640q90.jpg\" slate-data-type=\"image\"/><br/><br/><img width=\"790\" height=\"790\" src=\"https://ae01.alicdn.com/kf/Sfbf42da00ad447f8b51b29e3295a7076J.jpg_640x640q90.jpg\" slate-data-type=\"image\"/></div></div></div></div></div><br/>\n",
      "<script>window.adminAccountId=2671586218;</script>\n",
      "<link href=\"//g.alicdn.com/ae-seller-gsp/ams-tools/0.0.2/material/itemdesc/parse.css\" rel=\"stylesheet\">\n",
      "<script src=\"//g.alicdn.com/ae-seller-gsp/ams-tools/0.0.2/material/itemdesc/parse.js\"></script>\n",
      "\n"
     ]
    }
   ],
   "source": [
    "import requests\n",
    "\n",
    "# URL của trang cần lấy nội dung HTML\n",
    "url = \"https://aeproductsourcesite.alicdn.com/product/description/msite/v2/en_US/desc.htm?productId=1005006451865952&key=S2653bf5025e349fb823f566c0b04de02C.zip&token=a01503e3a2950241b689ab40f254163a\"\n",
    "\n",
    "# Gửi yêu cầu GET và lấy nội dung HTML từ phản hồi\n",
    "response = requests.get(url)\n",
    "\n",
    "# Kiểm tra xem yêu cầu thành công không (status code 200)\n",
    "if response.status_code == 200:\n",
    "    # Lấy nội dung HTML từ phản hồi\n",
    "    html_content = response.text\n",
    "    print(html_content)\n",
    "else:\n",
    "    print(f\"Failed to retrieve HTML content. Status code: {response.status_code}\")"
   ]
  }
 ],
 "metadata": {
  "kernelspec": {
   "display_name": "Python 3",
   "language": "python",
   "name": "python3"
  },
  "language_info": {
   "codemirror_mode": {
    "name": "ipython",
    "version": 3
   },
   "file_extension": ".py",
   "mimetype": "text/x-python",
   "name": "python",
   "nbconvert_exporter": "python",
   "pygments_lexer": "ipython3",
   "version": "3.12.2"
  }
 },
 "nbformat": 4,
 "nbformat_minor": 2
}
